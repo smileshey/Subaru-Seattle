{
 "cells": [
  {
   "cell_type": "markdown",
   "id": "053e3b67",
   "metadata": {},
   "source": [
    "# Model (ResNet) - Binary\n",
    "\n",
    "Within this model, we'll use the same VGG16 model, but reduce the options down to 'Subuaru' and 'Not Subaru'"
   ]
  },
  {
   "cell_type": "markdown",
   "id": "a90019f6",
   "metadata": {},
   "source": [
    "### Library Imports"
   ]
  },
  {
   "cell_type": "code",
   "execution_count": 1,
   "id": "fffaf04d",
   "metadata": {},
   "outputs": [],
   "source": [
    "import numpy as np\n",
    "import pandas as pd\n",
    "import matplotlib.pyplot as plt\n",
    "import requests\n",
    "import pickle\n",
    "import time\n",
    "import os\n",
    "import json\n",
    "import seaborn as sns\n",
    "import tensorflow as tf\n",
    "import random\n",
    "import cv2\n",
    "import copy\n",
    "\n",
    "import torch\n",
    "import torch.optim as optim\n",
    "import torch.nn as nn\n",
    "import torch.nn.functional as F\n",
    "from torch.utils.data import TensorDataset, DataLoader\n",
    "import torchvision.transforms as transforms\n",
    "\n",
    "\n",
    "\n",
    "from tensorflow.keras.applications import VGG16,InceptionV3\n",
    "from tensorflow.keras.layers import Dense, Dropout, Flatten\n",
    "from tensorflow.keras.models import Sequential\n",
    "\n",
    "from keras.applications import VGG16\n",
    "from keras.applications.resnet import ResNet152\n",
    "from keras.preprocessing.image import ImageDataGenerator\n",
    "from keras.models import Sequential\n",
    "from keras.layers import Dense, Dropout, Flatten\n",
    "from keras.optimizers import Adam\n",
    "from tensorflow.keras.preprocessing.image import ImageDataGenerator, load_img, img_to_array\n",
    "from tensorflow.keras.callbacks import EarlyStopping, TensorBoard\n",
    "from datetime import datetime\n",
    "\n",
    "from pandas import json_normalize\n",
    "from sklearn.model_selection import train_test_split, GridSearchCV\n",
    "from sklearn.pipeline import Pipeline, FeatureUnion\n",
    "from sklearn.naive_bayes import MultinomialNB\n",
    "from sklearn.linear_model import LogisticRegression\n",
    "from sklearn.metrics import confusion_matrix, ConfusionMatrixDisplay,accuracy_score\n",
    "from sklearn.feature_extraction.text import CountVectorizer, TfidfVectorizer\n",
    "from sklearn.model_selection import train_test_split, GridSearchCV\n",
    "from sklearn.metrics import confusion_matrix, ConfusionMatrixDisplay, precision_score, recall_score, f1_score,classification_report\n",
    "from sklearn.preprocessing import normalize,StandardScaler,RobustScaler,MinMaxScaler\n",
    "from sklearn.svm import SVC,LinearSVC\n",
    "from sklearn.ensemble import RandomForestClassifier\n",
    "from sklearn.naive_bayes import BernoulliNB\n",
    "from sklearn.compose import ColumnTransformer\n",
    "\n",
    "\n",
    "\n",
    "from tensorflow.keras.models import Sequential\n",
    "from tensorflow.keras.layers import Dense, Dropout, BatchNormalization, Flatten, Conv2D, MaxPooling2D,LeakyReLU\n",
    "from tensorflow.keras.regularizers import l1, l2, l1_l2\n",
    "from tensorflow.keras.optimizers import Adam, SGD, RMSprop\n",
    "from keras.callbacks import EarlyStopping\n",
    "from tensorflow.keras.datasets import mnist, cifar10\n",
    "\n",
    "from tensorflow import keras\n",
    "from keras.utils import to_categorical\n",
    "from keras import regularizers\n",
    "from keras.models import load_model\n",
    "from keras.layers import GlobalAveragePooling2D\n",
    "from keras.losses import binary_crossentropy\n",
    "\n",
    "from scipy.stats import skew\n",
    "from tqdm import tqdm\n",
    "from PIL import Image\n",
    "from sklearn import metrics\n"
   ]
  },
  {
   "cell_type": "markdown",
   "id": "40ee82cf",
   "metadata": {},
   "source": [
    "### Data Augmentation"
   ]
  },
  {
   "cell_type": "code",
   "execution_count": 2,
   "id": "74b2de6f",
   "metadata": {},
   "outputs": [],
   "source": [
    "# #Remove comment to run again\n",
    "# datagen = ImageDataGenerator(\n",
    "#     rotation_range=20,\n",
    "# #     width_shift_range=0.15,\n",
    "# #     height_shift_range=0.15,\n",
    "#     shear_range=0.1,\n",
    "#     zoom_range=0.1,\n",
    "#     horizontal_flip=True,\n",
    "#     vertical_flip=False,\n",
    "# #     fill_mode='nearest'\n",
    "# )"
   ]
  },
  {
   "cell_type": "code",
   "execution_count": 3,
   "id": "c2c4f97b",
   "metadata": {},
   "outputs": [],
   "source": [
    "# image_dir = \"Datasets/BoundingBoxes/\"\n",
    "\n",
    "# for root, dirs, files in os.walk(image_dir):\n",
    "#     for filename in files:\n",
    "#         if not filename.startswith('.'):\n",
    "#             if os.path.basename(root).startswith('subaru'):\n",
    "#                 filepath = os.path.join(root, filename)\n",
    "#                 # load the image and convert it to a numpy array\n",
    "#                 img = load_img(filepath)\n",
    "#                 img_array = img_to_array(img)\n",
    "#                 # reshape the array to have an extra dimension\n",
    "#                 img_array = img_array.reshape((1,) + img_array.shape)\n",
    "#                 # generate X (in range) augmented images and save them\n",
    "#                 for i in range(4):\n",
    "#                     aug_img_array = datagen.flow(img_array, batch_size=1)[0]\n",
    "#                     aug_img = aug_img_array.astype('uint8')\n",
    "#                     new_filename = f\"{filename.split('.')[0]}_aug{i}.jpg\"\n",
    "#                     new_filepath = os.path.join(root, new_filename)\n",
    "#                     # save the augmented image\n",
    "#                     Image.fromarray(aug_img.squeeze()).save(new_filepath)\n",
    "#                     print(f\"New file created: {new_filepath}\")"
   ]
  },
  {
   "cell_type": "markdown",
   "id": "d70feb6a",
   "metadata": {},
   "source": [
    "### Generator (Data Generator)"
   ]
  },
  {
   "cell_type": "code",
   "execution_count": 4,
   "id": "7b0bacc5",
   "metadata": {},
   "outputs": [],
   "source": [
    "image_dir = \"Datasets/BoundingBoxes/\""
   ]
  },
  {
   "cell_type": "code",
   "execution_count": 5,
   "id": "1de00ccd",
   "metadata": {},
   "outputs": [],
   "source": [
    "def image_data_generator(image_dir, batch_size):\n",
    "    images = []\n",
    "    labels = []\n",
    "    for brand_dir in os.listdir(image_dir):\n",
    "        if not brand_dir.startswith('.'):\n",
    "            for filename in os.listdir(os.path.join(image_dir, brand_dir)):\n",
    "                if not filename.startswith('.'):\n",
    "                    label = brand_dir\n",
    "                    filepath = os.path.join(image_dir, brand_dir, filename)\n",
    "                    image = cv2.imread(filepath)\n",
    "                    image = cv2.cvtColor(image, cv2.COLOR_BGR2RGB)\n",
    "                    image = cv2.resize(image, (224, 224))\n",
    "                    images.append(image)\n",
    "                    labels.append(label)\n",
    "                    if len(images) == batch_size:\n",
    "                        labels = np.array(labels)\n",
    "                        labels = np.where(np.array([label.split('_')[0] for label in labels]) == 'subaru', 1, 0)\n",
    "                        yield np.array(images), np.array(labels)\n",
    "                        images = []\n",
    "                        labels = []\n",
    "    if len(images) > 0:\n",
    "        labels = np.array(labels)\n",
    "        labels = np.where(np.array([label.split('_')[0] for label in labels]) == 'subaru', 1, 0)\n",
    "        yield np.array(images), np.array(labels)"
   ]
  },
  {
   "cell_type": "code",
   "execution_count": 6,
   "id": "1cac46d0",
   "metadata": {},
   "outputs": [],
   "source": [
    "all_images = []\n",
    "all_labels = []\n",
    "\n",
    "for batch_images, batch_labels in image_data_generator(image_dir, batch_size=50000):\n",
    "    all_images.append(batch_images)\n",
    "    all_labels.append(batch_labels)\n",
    "\n",
    "all_images = np.concatenate(all_images, axis=0)\n",
    "all_labels = np.concatenate(all_labels, axis=0)"
   ]
  },
  {
   "cell_type": "code",
   "execution_count": 7,
   "id": "eb9a33d6",
   "metadata": {},
   "outputs": [
    {
     "data": {
      "text/plain": [
       "207368"
      ]
     },
     "execution_count": 7,
     "metadata": {},
     "output_type": "execute_result"
    }
   ],
   "source": [
    "len(all_labels)"
   ]
  },
  {
   "cell_type": "code",
   "execution_count": 8,
   "id": "22cddf54",
   "metadata": {},
   "outputs": [
    {
     "data": {
      "text/plain": [
       "0.6115601249951776"
      ]
     },
     "execution_count": 8,
     "metadata": {},
     "output_type": "execute_result"
    }
   ],
   "source": [
    "1-(sum(all_labels)/len(all_labels)) ## baseline"
   ]
  },
  {
   "cell_type": "code",
   "execution_count": 16,
   "id": "9ea80571",
   "metadata": {},
   "outputs": [
    {
     "data": {
      "text/plain": [
       "2"
      ]
     },
     "execution_count": 16,
     "metadata": {},
     "output_type": "execute_result"
    }
   ],
   "source": [
    "num_classes = len(np.unique(all_labels))\n",
    "num_classes"
   ]
  },
  {
   "cell_type": "markdown",
   "id": "1b591268",
   "metadata": {},
   "source": [
    "### Train Test Split\n",
    "\n",
    "To Train-Test split the data, we'll be seperating X on index to prevent all of the data from being loaded into the kernel concurrently."
   ]
  },
  {
   "cell_type": "code",
   "execution_count": 17,
   "id": "31654b6d",
   "metadata": {},
   "outputs": [],
   "source": [
    "idx = np.arange(len(all_images))\n",
    "train_idx, test_idx = train_test_split(idx, test_size=0.2, stratify=all_labels)"
   ]
  },
  {
   "cell_type": "code",
   "execution_count": 18,
   "id": "46ec6199",
   "metadata": {},
   "outputs": [],
   "source": [
    "X_train, y_train = all_images[train_idx], all_labels[train_idx]"
   ]
  },
  {
   "cell_type": "code",
   "execution_count": 19,
   "id": "a442029b",
   "metadata": {},
   "outputs": [],
   "source": [
    "X_test, y_test = all_images[test_idx], all_labels[test_idx]"
   ]
  },
  {
   "cell_type": "code",
   "execution_count": 20,
   "id": "411cd5ba",
   "metadata": {},
   "outputs": [],
   "source": [
    "# y_train = np.reshape(y_train, (-1, 1))\n",
    "# y_test = np.reshape(y_test, (-1, 1))"
   ]
  },
  {
   "cell_type": "code",
   "execution_count": 21,
   "id": "8646a03e",
   "metadata": {},
   "outputs": [
    {
     "data": {
      "text/plain": [
       "41474"
      ]
     },
     "execution_count": 21,
     "metadata": {},
     "output_type": "execute_result"
    }
   ],
   "source": [
    "len(y_test)"
   ]
  },
  {
   "cell_type": "code",
   "execution_count": 22,
   "id": "b238fe6a",
   "metadata": {},
   "outputs": [
    {
     "name": "stdout",
     "output_type": "stream",
     "text": [
      "Subaru count: 64440\n",
      "Other count: 101454\n"
     ]
    }
   ],
   "source": [
    "print('Subaru count:', np.sum(y_train))\n",
    "print('Other count:', np.sum(1 - y_train))"
   ]
  },
  {
   "cell_type": "markdown",
   "id": "ee8dd255",
   "metadata": {},
   "source": [
    "### Data Generators\n",
    "\n",
    "We'll feed our data into the model in batches of 32 so that all images aren’t loaded into the kernel at the same time. Within this function, we'll divide X_low by 255, to normalize the data.\n",
    "\n",
    "This operation is split into two seperate generators to prevent data leakage from the training set into the validation set. Since the function has been seperated, each function will only be called when needed."
   ]
  },
  {
   "cell_type": "code",
   "execution_count": 23,
   "id": "004c1d8e",
   "metadata": {},
   "outputs": [],
   "source": [
    "def train_data_generator(X_train, y_train, batch_size):\n",
    "    num_train_samples = len(X_train)\n",
    "    train_indices = np.arange(num_train_samples)\n",
    "    np.random.shuffle(train_indices)\n",
    "\n",
    "    while True:\n",
    "        for start_idx in range(0, num_train_samples, batch_size):\n",
    "            end_idx = min(start_idx + batch_size, num_train_samples)\n",
    "            batch_indices = train_indices[start_idx:end_idx]\n",
    "            X_batch_train = torch.tensor(X_train[batch_indices], dtype=torch.float32)\n",
    "            y_batch_train = torch.tensor(y_train[batch_indices], dtype=torch.long)\n",
    "\n",
    "#             # Normalize the input data to [0, 1]\n",
    "#             X_batch_train /= 255.0\n",
    "\n",
    "            yield X_batch_train, y_batch_train"
   ]
  },
  {
   "cell_type": "code",
   "execution_count": 24,
   "id": "1a72f35e",
   "metadata": {},
   "outputs": [],
   "source": [
    "def test_data_generator(X_test, y_test, batch_size):\n",
    "    num_test_samples = len(X_test)\n",
    "    test_indices = torch.randperm(num_test_samples)\n",
    "    while True:\n",
    "        for start_idx_test in range(0, num_test_samples, batch_size):\n",
    "            end_idx_test = min(start_idx_test + batch_size, num_test_samples)\n",
    "            batch_indices_test = test_indices[start_idx_test:end_idx_test]\n",
    "            batch_X_test = torch.tensor(X_test[batch_indices_test], dtype=torch.float32)\n",
    "            batch_y_test = torch.tensor(y_test[batch_indices_test], dtype=torch.long)\n",
    "            yield batch_X_test, batch_y_test"
   ]
  },
  {
   "cell_type": "code",
   "execution_count": 25,
   "id": "2a989c88",
   "metadata": {},
   "outputs": [],
   "source": [
    "batch_size = 32\n",
    "train_generator = train_data_generator(X_train, y_train, batch_size)\n",
    "val_generator = test_data_generator(X_test, y_test, batch_size)"
   ]
  },
  {
   "cell_type": "code",
   "execution_count": 26,
   "id": "be219691",
   "metadata": {},
   "outputs": [],
   "source": [
    "train_steps = len(X_train) // batch_size\n",
    "val_steps = len(X_test) // batch_size"
   ]
  },
  {
   "cell_type": "markdown",
   "id": "072e60cc",
   "metadata": {},
   "source": [
    "### Instantiating VGG16 Model (TensorFlow)"
   ]
  },
  {
   "cell_type": "code",
   "execution_count": 27,
   "id": "37997859",
   "metadata": {},
   "outputs": [],
   "source": [
    "optimizer = tf.keras.optimizers.Adam(learning_rate=0.0001)\n",
    "loss_fn = tf.keras.losses.BinaryCrossentropy()\n",
    "metrics=['accuracy']\n",
    "epochs = 50"
   ]
  },
  {
   "cell_type": "code",
   "execution_count": 28,
   "id": "6e02f946",
   "metadata": {},
   "outputs": [
    {
     "name": "stdout",
     "output_type": "stream",
     "text": [
      "Metal device set to: Apple M1 Max\n"
     ]
    },
    {
     "name": "stderr",
     "output_type": "stream",
     "text": [
      "2023-05-15 08:41:24.614989: I tensorflow/core/common_runtime/pluggable_device/pluggable_device_factory.cc:305] Could not identify NUMA node of platform GPU ID 0, defaulting to 0. Your kernel may not have been built with NUMA support.\n",
      "2023-05-15 08:41:24.615889: I tensorflow/core/common_runtime/pluggable_device/pluggable_device_factory.cc:271] Created TensorFlow device (/job:localhost/replica:0/task:0/device:GPU:0 with 0 MB memory) -> physical PluggableDevice (device: 0, name: METAL, pci bus id: <undefined>)\n"
     ]
    }
   ],
   "source": [
    "base_model = InceptionV3(weights='imagenet', include_top=False, input_shape=(224, 224, 3))\n",
    "\n",
    "for layer in base_model.layers:\n",
    "    layer.trainable = False"
   ]
  },
  {
   "cell_type": "code",
   "execution_count": 29,
   "id": "584ee176",
   "metadata": {},
   "outputs": [],
   "source": [
    "model = Sequential([\n",
    "    base_model,\n",
    "    Flatten(),\n",
    "    Dense(1, activation='sigmoid')\n",
    "])"
   ]
  },
  {
   "cell_type": "code",
   "execution_count": 30,
   "id": "0a77df1d",
   "metadata": {},
   "outputs": [],
   "source": [
    "model.compile(optimizer= optimizer,\n",
    "              loss= loss_fn,\n",
    "              metrics= metrics)"
   ]
  },
  {
   "cell_type": "code",
   "execution_count": 31,
   "id": "3c439517",
   "metadata": {},
   "outputs": [],
   "source": [
    "early_stopping = EarlyStopping(monitor='val_accuracy', patience=10)\n"
   ]
  },
  {
   "cell_type": "code",
   "execution_count": 32,
   "id": "53f06e30",
   "metadata": {},
   "outputs": [
    {
     "name": "stdout",
     "output_type": "stream",
     "text": [
      "Epoch 1/50\n"
     ]
    },
    {
     "name": "stderr",
     "output_type": "stream",
     "text": [
      "2023-05-15 08:41:38.909337: W tensorflow/core/platform/profile_utils/cpu_utils.cc:128] Failed to get CPU frequency: 0 Hz\n",
      "2023-05-15 08:41:40.322245: I tensorflow/core/grappler/optimizers/custom_graph_optimizer_registry.cc:113] Plugin optimizer for device_type GPU is enabled.\n"
     ]
    },
    {
     "name": "stdout",
     "output_type": "stream",
     "text": [
      "5184/5184 [==============================] - ETA: 0s - loss: 1.9054 - accuracy: 0.8271"
     ]
    },
    {
     "name": "stderr",
     "output_type": "stream",
     "text": [
      "2023-05-15 08:46:31.370752: I tensorflow/core/grappler/optimizers/custom_graph_optimizer_registry.cc:113] Plugin optimizer for device_type GPU is enabled.\n"
     ]
    },
    {
     "name": "stdout",
     "output_type": "stream",
     "text": [
      "5184/5184 [==============================] - 360s 69ms/step - loss: 1.9054 - accuracy: 0.8271 - val_loss: 1.3806 - val_accuracy: 0.8715\n",
      "Epoch 2/50\n",
      "5184/5184 [==============================] - 349s 67ms/step - loss: 1.5119 - accuracy: 0.8593 - val_loss: 1.4429 - val_accuracy: 0.8767\n",
      "Epoch 3/50\n",
      "5184/5184 [==============================] - 347s 67ms/step - loss: 1.4598 - accuracy: 0.8671 - val_loss: 1.9554 - val_accuracy: 0.8028\n",
      "Epoch 4/50\n",
      "5184/5184 [==============================] - 351s 68ms/step - loss: 1.4037 - accuracy: 0.8732 - val_loss: 2.6138 - val_accuracy: 0.7740\n",
      "Epoch 5/50\n",
      "5184/5184 [==============================] - 378s 73ms/step - loss: 1.3654 - accuracy: 0.8776 - val_loss: 1.2311 - val_accuracy: 0.8881\n",
      "Epoch 6/50\n",
      "5184/5184 [==============================] - 349s 67ms/step - loss: 1.2919 - accuracy: 0.8821 - val_loss: 2.2147 - val_accuracy: 0.8586\n",
      "Epoch 7/50\n",
      "5184/5184 [==============================] - 351s 68ms/step - loss: 1.3186 - accuracy: 0.8835 - val_loss: 1.9160 - val_accuracy: 0.8719\n",
      "Epoch 8/50\n",
      "5184/5184 [==============================] - 347s 67ms/step - loss: 1.3254 - accuracy: 0.8851 - val_loss: 2.7302 - val_accuracy: 0.8498\n",
      "Epoch 9/50\n",
      "5184/5184 [==============================] - 344s 66ms/step - loss: 1.3735 - accuracy: 0.8856 - val_loss: 1.4327 - val_accuracy: 0.8897\n",
      "Epoch 10/50\n",
      "5184/5184 [==============================] - 346s 67ms/step - loss: 1.3870 - accuracy: 0.8865 - val_loss: 2.8674 - val_accuracy: 0.7899\n",
      "Epoch 11/50\n",
      "5184/5184 [==============================] - 350s 67ms/step - loss: 1.3298 - accuracy: 0.8902 - val_loss: 1.9090 - val_accuracy: 0.8478\n",
      "Epoch 12/50\n",
      "5184/5184 [==============================] - 358s 69ms/step - loss: 1.2978 - accuracy: 0.8920 - val_loss: 2.2284 - val_accuracy: 0.8292\n",
      "Epoch 13/50\n",
      "5184/5184 [==============================] - 357s 69ms/step - loss: 1.2875 - accuracy: 0.8924 - val_loss: 1.4787 - val_accuracy: 0.8921\n",
      "Epoch 14/50\n",
      "5184/5184 [==============================] - 350s 68ms/step - loss: 1.3613 - accuracy: 0.8908 - val_loss: 3.0054 - val_accuracy: 0.8517\n",
      "Epoch 15/50\n",
      "5184/5184 [==============================] - 343s 66ms/step - loss: 1.3558 - accuracy: 0.8931 - val_loss: 5.3410 - val_accuracy: 0.7992\n",
      "Epoch 16/50\n",
      "5184/5184 [==============================] - 343s 66ms/step - loss: 1.3554 - accuracy: 0.8937 - val_loss: 3.9103 - val_accuracy: 0.8333\n",
      "Epoch 17/50\n",
      "5184/5184 [==============================] - 359s 69ms/step - loss: 1.3032 - accuracy: 0.8968 - val_loss: 2.5870 - val_accuracy: 0.8641\n",
      "Epoch 18/50\n",
      "5184/5184 [==============================] - 347s 67ms/step - loss: 1.2070 - accuracy: 0.8994 - val_loss: 1.9638 - val_accuracy: 0.8810\n",
      "Epoch 19/50\n",
      "3930/5184 [=====================>........] - ETA: 1:06 - loss: 1.2387 - accuracy: 0.8987"
     ]
    }
   ],
   "source": [
    "model.fit(train_generator,\n",
    "          epochs=50,\n",
    "          validation_data=val_generator,\n",
    "          callbacks=[early_stopping],\n",
    "          steps_per_epoch=train_steps, \n",
    "          validation_steps=val_steps)"
   ]
  },
  {
   "cell_type": "code",
   "execution_count": 43,
   "id": "fe680a37",
   "metadata": {},
   "outputs": [
    {
     "name": "stdout",
     "output_type": "stream",
     "text": [
      "1297/1297 [==============================] - 88s 67ms/step\n",
      "1297/1297 [==============================] - 90s 70ms/step\n"
     ]
    }
   ],
   "source": [
    "y_pred = model.predict(X_test)\n",
    "y_pred_labels = np.round(y_pred)\n",
    "y_pred_prob = model.predict(X_test)\n",
    "\n",
    "threshold = 0.2\n",
    "\n",
    "# Classify examples based on the threshold\n",
    "y_pred = np.where(y_pred_prob > threshold, 1, 0)"
   ]
  },
  {
   "cell_type": "code",
   "execution_count": 44,
   "id": "0880a096",
   "metadata": {},
   "outputs": [
    {
     "name": "stdout",
     "output_type": "stream",
     "text": [
      "1297/1297 [==============================] - 97s 75ms/step\n",
      "              precision    recall  f1-score   support\n",
      "\n",
      "           0       0.61      1.00      0.76     25364\n",
      "           1       0.00      0.00      0.00     16110\n",
      "\n",
      "    accuracy                           0.61     41474\n",
      "   macro avg       0.31      0.50      0.38     41474\n",
      "weighted avg       0.37      0.61      0.46     41474\n",
      "\n"
     ]
    },
    {
     "name": "stderr",
     "output_type": "stream",
     "text": [
      "/Users/ryan/miniconda3/envs/tf/lib/python3.9/site-packages/sklearn/metrics/_classification.py:1344: UndefinedMetricWarning: Precision and F-score are ill-defined and being set to 0.0 in labels with no predicted samples. Use `zero_division` parameter to control this behavior.\n",
      "  _warn_prf(average, modifier, msg_start, len(result))\n",
      "/Users/ryan/miniconda3/envs/tf/lib/python3.9/site-packages/sklearn/metrics/_classification.py:1344: UndefinedMetricWarning: Precision and F-score are ill-defined and being set to 0.0 in labels with no predicted samples. Use `zero_division` parameter to control this behavior.\n",
      "  _warn_prf(average, modifier, msg_start, len(result))\n",
      "/Users/ryan/miniconda3/envs/tf/lib/python3.9/site-packages/sklearn/metrics/_classification.py:1344: UndefinedMetricWarning: Precision and F-score are ill-defined and being set to 0.0 in labels with no predicted samples. Use `zero_division` parameter to control this behavior.\n",
      "  _warn_prf(average, modifier, msg_start, len(result))\n"
     ]
    }
   ],
   "source": [
    "predictions = model.predict(X_test)\n",
    "print(classification_report(y_test, np.argmax(y_pred_labels, axis=1))) "
   ]
  },
  {
   "cell_type": "code",
   "execution_count": 36,
   "id": "727696b9",
   "metadata": {},
   "outputs": [],
   "source": [
    "def plot_cm(labels, predictions, p=0.5):\n",
    "  cm = confusion_matrix(labels, predictions > p)\n",
    "  plt.figure(figsize=(5,5))\n",
    "  sns.heatmap(cm, annot=True, fmt=\"d\")\n",
    "  plt.title('Confusion matrix @{:.2f}'.format(p))\n",
    "  plt.ylabel('Actual label')\n",
    "  plt.xlabel('Predicted label')\n",
    "\n",
    "  print('Legitimate Transactions Detected (True Negatives): ', cm[0][0])\n",
    "  print('Legitimate Transactions Incorrectly Detected (False Positives): ', cm[0][1])\n",
    "  print('Fraudulent Transactions Missed (False Negatives): ', cm[1][0])\n",
    "  print('Fraudulent Transactions Detected (True Positives): ', cm[1][1])\n",
    "  print('Total Fraudulent Transactions: ', np.sum(cm[1]))"
   ]
  },
  {
   "cell_type": "code",
   "execution_count": 37,
   "id": "5455aa70",
   "metadata": {},
   "outputs": [
    {
     "data": {
      "text/plain": [
       "<Axes: >"
      ]
     },
     "execution_count": 37,
     "metadata": {},
     "output_type": "execute_result"
    },
    {
     "data": {
      "image/png": "[encoded data removed]",
      "text/plain": [
       "<Figure size 500x500 with 1 Axes>"
      ]
     },
     "metadata": {},
     "output_type": "display_data"
    }
   ],
   "source": [
    "cm = confusion_matrix(y_test, y_pred_labels)\n",
    "\n",
    "# Create a heatmap using seaborn\n",
    "plt.figure(figsize=(5, 5))\n",
    "sns.heatmap(cm, annot=True, fmt=\"d\", cmap=\"Blues\", cbar=False)"
   ]
  },
  {
   "cell_type": "code",
   "execution_count": 38,
   "id": "41ffaaef",
   "metadata": {},
   "outputs": [
    {
     "data": {
      "text/plain": [
       "array([[ 7082, 18282],\n",
       "       [  657, 15453]])"
      ]
     },
     "execution_count": 38,
     "metadata": {},
     "output_type": "execute_result"
    }
   ],
   "source": [
    "cm"
   ]
  },
  {
   "cell_type": "code",
   "execution_count": 39,
   "id": "834351d3",
   "metadata": {},
   "outputs": [],
   "source": [
    "TP = cm[1, 1]\n",
    "TN = cm[0, 0]\n",
    "FP = cm[0, 1]\n",
    "FN = cm[1, 0]\n",
    "\n",
    "accuracy = (TP + TN) / (TP + TN + FP + FN)\n",
    "precision = TP / (TP + FP)\n",
    "recall = TP / (TP + FN)\n",
    "f1_score = 2 * (precision * recall) / (precision + recall)"
   ]
  },
  {
   "cell_type": "code",
   "execution_count": 40,
   "id": "8e5a759c",
   "metadata": {},
   "outputs": [
    {
     "data": {
      "text/plain": [
       "(0.5433524617832859, 0.458070253445976, 0.9592178770949721, 0.6200421306048751)"
      ]
     },
     "execution_count": 40,
     "metadata": {},
     "output_type": "execute_result"
    }
   ],
   "source": [
    "accuracy, precision, recall, f1_score"
   ]
  },
  {
   "cell_type": "code",
   "execution_count": 41,
   "id": "5548c6be",
   "metadata": {},
   "outputs": [],
   "source": [
    "### Model results"
   ]
  },
  {
   "cell_type": "markdown",
   "id": "e89ace89",
   "metadata": {},
   "source": [
    "1) ResNet150 Model\n",
    "    - bounding boxes with multiple augmentations completed for subaru images\n",
    "    - acc,prec,recall,f1_score (0.5754930800019289,0.47765162832387215,0.9923649906890131,0.6448971359419121)\n",
    "    - baseline .625 (base_model = ResNet152(weights='imagenet', include_top=False, input_shape=(224, 224, 3))\n",
    "    - converges to .999999 accuracy on model, .989 validation"
   ]
  },
  {
   "cell_type": "code",
   "execution_count": 46,
   "id": "5fe719ae",
   "metadata": {},
   "outputs": [
    {
     "name": "stderr",
     "output_type": "stream",
     "text": [
      "WARNING:absl:Found untraced functions such as _jit_compiled_convolution_op, _jit_compiled_convolution_op, _jit_compiled_convolution_op, _jit_compiled_convolution_op, _jit_compiled_convolution_op while saving (showing 5 of 94). These functions will not be directly callable after loading.\n"
     ]
    },
    {
     "name": "stdout",
     "output_type": "stream",
     "text": [
      "INFO:tensorflow:Assets written to: models/Inception_v3_custom/assets\n"
     ]
    },
    {
     "name": "stderr",
     "output_type": "stream",
     "text": [
      "INFO:tensorflow:Assets written to: models/Inception_v3_custom/assets\n"
     ]
    }
   ],
   "source": [
    "model.save('models/Inception_v3_custom/')"
   ]
  }
 ],
 "metadata": {
  "kernelspec": {
   "display_name": "Python 3 (ipykernel)",
   "language": "python",
   "name": "python3"
  },
  "language_info": {
   "codemirror_mode": {
    "name": "ipython",
    "version": 3
   },
   "file_extension": ".py",
   "mimetype": "text/x-python",
   "name": "python",
   "nbconvert_exporter": "python",
   "pygments_lexer": "ipython3",
   "version": "3.9.16"
  }
 },
 "nbformat": 4,
 "nbformat_minor": 5
}

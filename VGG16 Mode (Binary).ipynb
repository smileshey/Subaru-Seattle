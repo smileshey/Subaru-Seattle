{
 "cells": [
  {
   "cell_type": "markdown",
   "id": "053e3b67",
   "metadata": {},
   "source": [
    "# Model (ResNet) - Binary\n",
    "\n",
    "Within this model, we'll use the same VGG16 model, but reduce the options down to 'Subuaru' and 'Not Subaru'"
   ]
  },
  {
   "cell_type": "markdown",
   "id": "a90019f6",
   "metadata": {},
   "source": [
    "### Library Imports"
   ]
  },
  {
   "cell_type": "code",
   "execution_count": 1,
   "id": "fffaf04d",
   "metadata": {},
   "outputs": [],
   "source": [
    "import numpy as np\n",
    "import pandas as pd\n",
    "import matplotlib.pyplot as plt\n",
    "import requests\n",
    "import pickle\n",
    "import time\n",
    "import os\n",
    "import json\n",
    "import seaborn as sns\n",
    "import tensorflow as tf\n",
    "import random\n",
    "import cv2\n",
    "\n",
    "from tensorflow.keras.applications import VGG16\n",
    "from tensorflow.keras.layers import Dense, Dropout, Flatten\n",
    "from tensorflow.keras.models import Sequential\n",
    "\n",
    "from keras.applications import VGG16\n",
    "from keras.applications.resnet import ResNet152\n",
    "from keras.preprocessing.image import ImageDataGenerator\n",
    "from keras.models import Sequential\n",
    "from keras.layers import Dense, Dropout, Flatten\n",
    "from keras.optimizers import Adam\n",
    "from tensorflow.keras.preprocessing.image import ImageDataGenerator, load_img, img_to_array\n",
    "\n",
    "\n",
    "\n",
    "from pandas import json_normalize\n",
    "from sklearn.model_selection import train_test_split, GridSearchCV\n",
    "from sklearn.pipeline import Pipeline, FeatureUnion\n",
    "from sklearn.naive_bayes import MultinomialNB\n",
    "from sklearn.linear_model import LogisticRegression\n",
    "from sklearn.metrics import confusion_matrix, ConfusionMatrixDisplay\n",
    "from sklearn.feature_extraction.text import CountVectorizer, TfidfVectorizer\n",
    "from sklearn.model_selection import train_test_split, GridSearchCV\n",
    "from sklearn.metrics import confusion_matrix, ConfusionMatrixDisplay, precision_score, recall_score, f1_score,classification_report\n",
    "from sklearn.preprocessing import normalize,StandardScaler,RobustScaler,MinMaxScaler\n",
    "from sklearn.svm import SVC,LinearSVC\n",
    "from sklearn.ensemble import RandomForestClassifier\n",
    "from sklearn.naive_bayes import BernoulliNB\n",
    "from sklearn.compose import ColumnTransformer\n",
    "\n",
    "\n",
    "from tensorflow.keras.models import Sequential\n",
    "from tensorflow.keras.layers import Dense, Dropout, BatchNormalization, Flatten, Conv2D, MaxPooling2D,LeakyReLU\n",
    "from tensorflow.keras.regularizers import l1, l2, l1_l2\n",
    "from tensorflow.keras.optimizers import Adam, SGD, RMSprop\n",
    "from keras.callbacks import EarlyStopping\n",
    "from tensorflow.keras.datasets import mnist, cifar10\n",
    "\n",
    "from tensorflow import keras\n",
    "from keras.utils import to_categorical\n",
    "from keras import regularizers\n",
    "from keras.models import load_model\n",
    "from keras.layers import GlobalAveragePooling2D\n",
    "\n",
    "\n",
    "\n",
    "\n",
    "\n",
    "from scipy.stats import skew\n",
    "\n",
    "from PIL import Image"
   ]
  },
  {
   "cell_type": "code",
   "execution_count": null,
   "id": "495d0d6a",
   "metadata": {},
   "outputs": [],
   "source": []
  },
  {
   "cell_type": "code",
   "execution_count": null,
   "id": "b64ad8c0",
   "metadata": {},
   "outputs": [],
   "source": []
  },
  {
   "cell_type": "markdown",
   "id": "40ee82cf",
   "metadata": {},
   "source": [
    "### Data Augmentation"
   ]
  },
  {
   "cell_type": "code",
   "execution_count": null,
   "id": "74b2de6f",
   "metadata": {},
   "outputs": [],
   "source": [
    "# Remove comment to run again\n",
    "# datagen = ImageDataGenerator(\n",
    "#     rotation_range=10,\n",
    "#     width_shift_range=0.1,\n",
    "#     height_shift_range=0.1,\n",
    "#     shear_range=0.1,\n",
    "#     zoom_range=0.1,\n",
    "#     horizontal_flip=True,\n",
    "#     vertical_flip=False,\n",
    "#     fill_mode='nearest'\n",
    "# )"
   ]
  },
  {
   "cell_type": "code",
   "execution_count": null,
   "id": "c2c4f97b",
   "metadata": {},
   "outputs": [],
   "source": [
    "# Remove comment to run again\n",
    "# image_dir = \"Datasets/VMMRdb/\"\n",
    "\n",
    "for root, dirs, files in os.walk(image_dir):\n",
    "    for filename in files:\n",
    "        if not filename.startswith('.'):\n",
    "            # check if the file starts with 'subaru'\n",
    "            if filename.startswith('subaru'):\n",
    "                filepath = os.path.join(root, filename)\n",
    "                # load the image and convert it to a numpy array\n",
    "                img = load_img(filepath)\n",
    "                img_array = img_to_array(img)\n",
    "                # reshape the array to have an extra dimension\n",
    "                img_array = img_array.reshape((1,) + img_array.shape)\n",
    "                # generate X (in range) augmented images and save them\n",
    "                for i in range(4):\n",
    "                    aug_img_array = datagen.flow(img_array, batch_size=1)[0]\n",
    "                    aug_img = aug_img_array.astype('uint8')\n",
    "                    new_filename = f\"{filename.split('.')[0]}_aug{i}.jpg\"\n",
    "                    new_filepath = os.path.join(root, new_filename)\n",
    "                    # save the augmented image\n",
    "                    Image.fromarray(aug_img.squeeze()).save(new_filepath)"
   ]
  },
  {
   "cell_type": "markdown",
   "id": "d70feb6a",
   "metadata": {},
   "source": [
    "### Generator (Data Generator)"
   ]
  },
  {
   "cell_type": "code",
   "execution_count": 2,
   "id": "7b0bacc5",
   "metadata": {},
   "outputs": [],
   "source": [
    "image_dir = \"Datasets/VMMRdb/\""
   ]
  },
  {
   "cell_type": "code",
   "execution_count": 3,
   "id": "1de00ccd",
   "metadata": {},
   "outputs": [],
   "source": [
    "def image_data_generator(image_dir, batch_size):\n",
    "    images = []\n",
    "    labels = []\n",
    "    for root, dirs, files in os.walk(image_dir):\n",
    "        for filename in files:\n",
    "            if not filename.startswith('.'):\n",
    "                label = os.path.basename(root).split('_')[0]\n",
    "                filepath = os.path.join(root, filename)\n",
    "                image = cv2.imread(filepath)\n",
    "                image = cv2.cvtColor(image, cv2.COLOR_BGR2RGB)\n",
    "                image = cv2.resize(image, (224, 224))\n",
    "                images.append(image)\n",
    "                labels.append(label)\n",
    "                if len(images) == batch_size:\n",
    "                    yield np.array(images), np.array(labels)\n",
    "                    images = []\n",
    "                    labels = []\n",
    "    if len(images) > 0:\n",
    "        yield np.array(images), np.array(labels)"
   ]
  },
  {
   "cell_type": "code",
   "execution_count": 4,
   "id": "bf035403",
   "metadata": {},
   "outputs": [],
   "source": [
    "generator = image_data_generator(image_dir, batch_size=32)"
   ]
  },
  {
   "cell_type": "code",
   "execution_count": 5,
   "id": "7e730217",
   "metadata": {},
   "outputs": [],
   "source": [
    "all_images = []\n",
    "all_labels = []\n",
    "for batch_images, batch_labels in generator:\n",
    "    all_images.append(batch_images)\n",
    "    all_labels.append(batch_labels)\n",
    "\n",
    "# Concatenate the data\n",
    "all_images = np.concatenate(all_images, axis=0)\n",
    "all_labels = np.concatenate(all_labels, axis=0)"
   ]
  },
  {
   "cell_type": "code",
   "execution_count": 6,
   "id": "9ea80571",
   "metadata": {},
   "outputs": [
    {
     "data": {
      "text/plain": [
       "75"
      ]
     },
     "execution_count": 6,
     "metadata": {},
     "output_type": "execute_result"
    }
   ],
   "source": [
    "num_classes = len(np.unique(all_labels))\n",
    "num_classes"
   ]
  },
  {
   "cell_type": "markdown",
   "id": "74e4d53d",
   "metadata": {},
   "source": [
    "### Mapping Labels\n",
    "\n",
    "To restate the goal of this worksheet, this is a binary classification problem."
   ]
  },
  {
   "cell_type": "code",
   "execution_count": 7,
   "id": "57ba8e85",
   "metadata": {},
   "outputs": [],
   "source": [
    "all_labels = np.where(all_labels == 'subaru', 1, 0)"
   ]
  },
  {
   "cell_type": "code",
   "execution_count": 8,
   "id": "35840365",
   "metadata": {},
   "outputs": [
    {
     "data": {
      "text/plain": [
       "2"
      ]
     },
     "execution_count": 8,
     "metadata": {},
     "output_type": "execute_result"
    }
   ],
   "source": [
    "num_classes = len(np.unique(all_labels))\n",
    "num_classes"
   ]
  },
  {
   "cell_type": "markdown",
   "id": "5943694e",
   "metadata": {},
   "source": [
    "### Randomly Sampling"
   ]
  },
  {
   "cell_type": "code",
   "execution_count": 9,
   "id": "ac699ebb",
   "metadata": {},
   "outputs": [],
   "source": [
    "non_subaru_mask = all_labels == 0"
   ]
  },
  {
   "cell_type": "code",
   "execution_count": 10,
   "id": "d4a16d1b",
   "metadata": {},
   "outputs": [],
   "source": [
    "sample_size = int(0.6 * np.sum(non_subaru_mask))\n",
    "sample_indices = np.random.choice(np.where(non_subaru_mask)[0], size=sample_size, replace=False)"
   ]
  },
  {
   "cell_type": "code",
   "execution_count": 11,
   "id": "f55f9d4c",
   "metadata": {},
   "outputs": [],
   "source": [
    "subsampled_images = all_images[np.concatenate([sample_indices, np.where(all_labels == 1)[0]])]\n",
    "subsampled_labels = all_labels[np.concatenate([sample_indices, np.where(all_labels == 1)[0]])]"
   ]
  },
  {
   "cell_type": "markdown",
   "id": "1b591268",
   "metadata": {},
   "source": [
    "### Train Test Split\n",
    "\n",
    "To Train-Test split the data, we'll be seperating X on index to prevent all of the data from being loaded into the kernel concurrently."
   ]
  },
  {
   "cell_type": "code",
   "execution_count": 23,
   "id": "31654b6d",
   "metadata": {},
   "outputs": [],
   "source": [
    "idx = np.arange(subsampled_images.shape[0])\n",
    "train_idx, test_idx = train_test_split(idx, test_size=0.2, stratify=subsampled_labels)"
   ]
  },
  {
   "cell_type": "code",
   "execution_count": 24,
   "id": "46ec6199",
   "metadata": {},
   "outputs": [],
   "source": [
    "X_train, y_train = subsampled_images[train_idx], all_labels[train_idx]"
   ]
  },
  {
   "cell_type": "code",
   "execution_count": 25,
   "id": "a442029b",
   "metadata": {},
   "outputs": [],
   "source": [
    "X_test, y_test = subsampled_images[test_idx], subsampled_labels[test_idx]"
   ]
  },
  {
   "cell_type": "code",
   "execution_count": 26,
   "id": "411cd5ba",
   "metadata": {},
   "outputs": [],
   "source": [
    "y_train = np.reshape(y_train, (-1, 1))\n",
    "y_test = np.reshape(y_test, (-1, 1))"
   ]
  },
  {
   "cell_type": "code",
   "execution_count": 27,
   "id": "8646a03e",
   "metadata": {},
   "outputs": [
    {
     "data": {
      "text/plain": [
       "41225"
      ]
     },
     "execution_count": 27,
     "metadata": {},
     "output_type": "execute_result"
    }
   ],
   "source": [
    "len(y_test)"
   ]
  },
  {
   "cell_type": "code",
   "execution_count": 28,
   "id": "b238fe6a",
   "metadata": {},
   "outputs": [
    {
     "name": "stdout",
     "output_type": "stream",
     "text": [
      "Subaru count: 23892\n",
      "Other count: 141008\n"
     ]
    }
   ],
   "source": [
    "print('Subaru count:', np.sum(y_train))\n",
    "print('Other count:', np.sum(1 - y_train))"
   ]
  },
  {
   "cell_type": "markdown",
   "id": "ee8dd255",
   "metadata": {},
   "source": [
    "### Data Generators\n",
    "\n",
    "We'll feed our data into the model in batches of 32 so that all images aren’t loaded into the kernel at the same time. Within this function, we'll divide X_low by 255, to normalize the data.\n",
    "\n",
    "This operation is split into two seperate generators to prevent data leakage from the training set into the validation set. Since the function has been seperated, each function will only be called when needed."
   ]
  },
  {
   "cell_type": "code",
   "execution_count": 29,
   "id": "004c1d8e",
   "metadata": {},
   "outputs": [],
   "source": [
    "def train_data_generator(X_train, y_train, batch_size):\n",
    "    num_train_samples = len(X_train)\n",
    "    train_indices = np.arange(num_train_samples)\n",
    "    np.random.shuffle(train_indices)\n",
    "\n",
    "    while True:\n",
    "        for start_idx in range(0, num_train_samples, batch_size):\n",
    "            end_idx = min(start_idx + batch_size, num_train_samples)\n",
    "            batch_indices = train_indices[start_idx:end_idx]\n",
    "            X_batch_train = X_train[batch_indices]\n",
    "            y_batch_train = y_train[batch_indices]\n",
    "\n",
    "            # Normalize the input data to [0, 1]\n",
    "            X_batch_train = X_batch_train.astype('float32') / 255.0\n",
    "\n",
    "            yield (X_batch_train, y_batch_train)"
   ]
  },
  {
   "cell_type": "code",
   "execution_count": 30,
   "id": "1a72f35e",
   "metadata": {},
   "outputs": [],
   "source": [
    "def test_data_generator(X_test, y_test, batch_size):\n",
    "    num_test_samples = len(X_test)\n",
    "    test_indices = np.arange(num_test_samples)\n",
    "    np.random.shuffle(test_indices)\n",
    "\n",
    "    while True:\n",
    "        for start_idx_test in range(0, num_test_samples, batch_size):\n",
    "            end_idx_test = min(start_idx_test + batch_size, num_test_samples)\n",
    "            batch_indices_test = test_indices[start_idx_test:end_idx_test]\n",
    "            X_batch_test = X_test[batch_indices_test]\n",
    "            y_batch_test = y_test[batch_indices_test]\n",
    "\n",
    "            # Normalize the input\n",
    "            X_batch_test = X_batch_test.astype('float32') / 255.0\n",
    "\n",
    "            yield (X_batch_test, y_batch_test)\n",
    "\n",
    "\n",
    "# Define the batch size\n",
    "batch_size = 32\n",
    "\n",
    "train_generator = train_data_generator(X_train, y_train, batch_size)\n",
    "val_generator = test_data_generator(X_test, y_test, batch_size)"
   ]
  },
  {
   "cell_type": "code",
   "execution_count": 31,
   "id": "be219691",
   "metadata": {},
   "outputs": [],
   "source": [
    "train_steps = len(X_train) // batch_size\n",
    "val_steps = len(X_test) // batch_size"
   ]
  },
  {
   "cell_type": "markdown",
   "id": "072e60cc",
   "metadata": {},
   "source": [
    "### Instantiating VGG16 Model"
   ]
  },
  {
   "cell_type": "code",
   "execution_count": 32,
   "id": "6e02f946",
   "metadata": {},
   "outputs": [],
   "source": [
    "base_model = ResNet152(weights='imagenet', include_top=False, input_shape=(224, 224, 3))\n",
    "\n",
    "for layer in base_model.layers:\n",
    "    layer.trainable = True"
   ]
  },
  {
   "cell_type": "code",
   "execution_count": 33,
   "id": "584ee176",
   "metadata": {},
   "outputs": [],
   "source": [
    "model = Sequential([\n",
    "    base_model,\n",
    "    Flatten(),\n",
    "    Dense(1, activation='sigmoid')\n",
    "])"
   ]
  },
  {
   "cell_type": "code",
   "execution_count": 34,
   "id": "0a77df1d",
   "metadata": {},
   "outputs": [
    {
     "name": "stderr",
     "output_type": "stream",
     "text": [
      "/Users/ryan/miniconda3/envs/tf/lib/python3.9/site-packages/keras/optimizers/optimizer_v2/adam.py:110: UserWarning: The `lr` argument is deprecated, use `learning_rate` instead.\n",
      "  super(Adam, self).__init__(name, **kwargs)\n"
     ]
    }
   ],
   "source": [
    "model.compile(optimizer=Adam(lr = .001),\n",
    "              loss='binary_crossentropy',\n",
    "              metrics=['accuracy'])"
   ]
  },
  {
   "cell_type": "code",
   "execution_count": 35,
   "id": "3c439517",
   "metadata": {},
   "outputs": [],
   "source": [
    "early_stopping = EarlyStopping(monitor='val_accuracy', patience=10)\n"
   ]
  },
  {
   "cell_type": "code",
   "execution_count": 36,
   "id": "6c0356b9",
   "metadata": {},
   "outputs": [
    {
     "name": "stdout",
     "output_type": "stream",
     "text": [
      "Epoch 1/50\n"
     ]
    },
    {
     "name": "stderr",
     "output_type": "stream",
     "text": [
      "2023-05-04 16:37:01.499040: W tensorflow/core/platform/profile_utils/cpu_utils.cc:128] Failed to get CPU frequency: 0 Hz\n",
      "2023-05-04 16:37:05.698869: I tensorflow/core/grappler/optimizers/custom_graph_optimizer_registry.cc:113] Plugin optimizer for device_type GPU is enabled.\n"
     ]
    },
    {
     "name": "stdout",
     "output_type": "stream",
     "text": [
      "5153/5153 [==============================] - ETA: 0s - loss: 0.5653 - accuracy: 0.8491"
     ]
    },
    {
     "name": "stderr",
     "output_type": "stream",
     "text": [
      "2023-05-04 17:34:33.170835: I tensorflow/core/grappler/optimizers/custom_graph_optimizer_registry.cc:113] Plugin optimizer for device_type GPU is enabled.\n"
     ]
    },
    {
     "name": "stdout",
     "output_type": "stream",
     "text": [
      "5153/5153 [==============================] - 3728s 720ms/step - loss: 0.5653 - accuracy: 0.8491 - val_loss: 0.4796 - val_accuracy: 0.8193\n",
      "Epoch 2/50\n",
      "5153/5153 [==============================] - 3707s 718ms/step - loss: 0.5761 - accuracy: 0.8493 - val_loss: 0.5658 - val_accuracy: 0.8195\n",
      "Epoch 3/50\n",
      "5153/5153 [==============================] - 3686s 715ms/step - loss: 0.4308 - accuracy: 0.8531 - val_loss: 0.5267 - val_accuracy: 0.7966\n",
      "Epoch 4/50\n",
      "5153/5153 [==============================] - 3696s 717ms/step - loss: 0.4258 - accuracy: 0.8533 - val_loss: 0.5160 - val_accuracy: 0.8173\n",
      "Epoch 5/50\n",
      "5153/5153 [==============================] - 3685s 715ms/step - loss: 0.4162 - accuracy: 0.8550 - val_loss: 0.4730 - val_accuracy: 0.8195\n",
      "Epoch 6/50\n",
      "5153/5153 [==============================] - 3710s 720ms/step - loss: 0.4143 - accuracy: 0.8551 - val_loss: 0.4767 - val_accuracy: 0.8195\n",
      "Epoch 7/50\n",
      "5153/5153 [==============================] - 3721s 722ms/step - loss: 0.4141 - accuracy: 0.8551 - val_loss: 0.4773 - val_accuracy: 0.8195\n",
      "Epoch 8/50\n",
      "5153/5153 [==============================] - 3747s 727ms/step - loss: 0.4141 - accuracy: 0.8551 - val_loss: 0.4775 - val_accuracy: 0.8195\n",
      "Epoch 9/50\n",
      "5153/5153 [==============================] - 3680s 714ms/step - loss: 0.4141 - accuracy: 0.8551 - val_loss: 0.4785 - val_accuracy: 0.8195\n",
      "Epoch 10/50\n",
      "5153/5153 [==============================] - 3675s 713ms/step - loss: 0.4140 - accuracy: 0.8551 - val_loss: 0.4795 - val_accuracy: 0.8195\n",
      "Epoch 11/50\n",
      "5153/5153 [==============================] - 3676s 713ms/step - loss: 0.4141 - accuracy: 0.8551 - val_loss: 0.4843 - val_accuracy: 0.8195\n",
      "Epoch 12/50\n",
      "5153/5153 [==============================] - 3668s 712ms/step - loss: 0.4140 - accuracy: 0.8551 - val_loss: 0.4792 - val_accuracy: 0.8195\n"
     ]
    }
   ],
   "source": [
    "history = model.fit(\n",
    "    train_data_generator(X_train, y_train, batch_size),\n",
    "    validation_data=test_data_generator(X_test, y_test, batch_size),\n",
    "    epochs=50, \n",
    "    steps_per_epoch=train_steps, \n",
    "    validation_steps=val_steps,\n",
    "    callbacks=[early_stopping]\n",
    ")"
   ]
  },
  {
   "cell_type": "code",
   "execution_count": 37,
   "id": "86c8ec33",
   "metadata": {},
   "outputs": [
    {
     "data": {
      "image/png": "[encoded data removed]",
      "text/plain": [
       "<Figure size 640x480 with 1 Axes>"
      ]
     },
     "metadata": {},
     "output_type": "display_data"
    }
   ],
   "source": [
    "plt.plot(history.history['loss'])\n",
    "plt.plot(history.history['val_loss'])\n",
    "plt.title('Model loss')\n",
    "plt.ylabel('Loss')\n",
    "plt.xlabel('Epoch')\n",
    "plt.legend(['Train', 'Validation'], loc='upper left')\n",
    "plt.show()"
   ]
  },
  {
   "cell_type": "code",
   "execution_count": null,
   "id": "fe680a37",
   "metadata": {},
   "outputs": [],
   "source": [
    "y_pred = model.predict(X_test)\n",
    "y_pred_labels = np.round(y_pred)\n",
    "cm = confusion_matrix(y_test, y_pred_labels)"
   ]
  },
  {
   "cell_type": "code",
   "execution_count": null,
   "id": "5455aa70",
   "metadata": {},
   "outputs": [],
   "source": [
    "cm"
   ]
  }
 ],
 "metadata": {
  "kernelspec": {
   "display_name": "Python 3 (ipykernel)",
   "language": "python",
   "name": "python3"
  },
  "language_info": {
   "codemirror_mode": {
    "name": "ipython",
    "version": 3
   },
   "file_extension": ".py",
   "mimetype": "text/x-python",
   "name": "python",
   "nbconvert_exporter": "python",
   "pygments_lexer": "ipython3",
   "version": "3.9.16"
  }
 },
 "nbformat": 4,
 "nbformat_minor": 5
}

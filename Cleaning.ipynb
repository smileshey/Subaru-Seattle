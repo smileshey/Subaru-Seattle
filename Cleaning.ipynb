{
 "cells": [
  {
   "cell_type": "markdown",
   "id": "63aa2712",
   "metadata": {},
   "source": [
    "# Cleaning"
   ]
  },
  {
   "cell_type": "code",
   "execution_count": 125,
   "id": "b1ad74e7",
   "metadata": {},
   "outputs": [],
   "source": [
    "import numpy as np\n",
    "import pandas as pd\n",
    "import matplotlib.pyplot as plt\n",
    "import requests\n",
    "import pickle\n",
    "import time\n",
    "import os\n",
    "import json\n",
    "import seaborn as sns\n",
    "import tensorflow as tf\n",
    "import random\n",
    "import cv2\n",
    "from PIL import Image\n",
    "\n",
    "\n",
    "from pandas import json_normalize\n",
    "from sklearn.model_selection import train_test_split, GridSearchCV\n",
    "from sklearn.pipeline import Pipeline, FeatureUnion\n",
    "from sklearn.naive_bayes import MultinomialNB\n",
    "from sklearn.linear_model import LogisticRegression\n",
    "from sklearn.metrics import confusion_matrix, ConfusionMatrixDisplay\n",
    "from sklearn.feature_extraction.text import CountVectorizer, TfidfVectorizer\n",
    "from sklearn.model_selection import train_test_split, GridSearchCV\n",
    "from sklearn.metrics import confusion_matrix, ConfusionMatrixDisplay, precision_score, recall_score, f1_score,classification_report\n",
    "from sklearn.preprocessing import normalize,StandardScaler,RobustScaler,MinMaxScaler\n",
    "from sklearn.svm import SVC,LinearSVC\n",
    "from sklearn.ensemble import RandomForestClassifier\n",
    "from sklearn.naive_bayes import BernoulliNB\n",
    "from sklearn.compose import ColumnTransformer\n",
    "from matplotlib.colors import LinearSegmentedColormap\n",
    "from sklearn.preprocessing import LabelBinarizer\n",
    "\n",
    "\n",
    "\n",
    "from tensorflow.keras.models import Sequential\n",
    "from tensorflow.keras.layers import Dense, Dropout, BatchNormalization, Flatten, Conv2D, MaxPooling2D,LeakyReLU\n",
    "from tensorflow.keras.regularizers import l1, l2, l1_l2\n",
    "from tensorflow.keras.optimizers import Adam, SGD, RMSprop\n",
    "from keras.callbacks import EarlyStopping\n",
    "from tensorflow.keras.datasets import mnist, cifar10\n",
    "from tensorflow import keras\n",
    "from tensorflow.keras.preprocessing.image import ImageDataGenerator\n",
    "\n",
    "\n",
    "from scipy.stats import skew\n",
    "from scipy.sparse import csr_matrix"
   ]
  },
  {
   "cell_type": "markdown",
   "id": "dd19e5a8",
   "metadata": {},
   "source": [
    "### Image Resizing"
   ]
  },
  {
   "cell_type": "code",
   "execution_count": null,
   "id": "57627c7c",
   "metadata": {},
   "outputs": [],
   "source": [
    "input_dir = 'Datasets/VMMRdb/'\n",
    "output_dir = 'Datasets/VMMRdb/'\n",
    "\n",
    "size = (224, 224)\n",
    "\n",
    "for root, dirs, files in os.walk(input_dir):\n",
    "    for filename in files:\n",
    "        if filename.endswith('.jpg'):\n",
    "            img = cv2.imread(os.path.join(root, filename))\n",
    "            img_resized = cv2.resize(img, size)\n",
    "            output_subdir = os.path.join(output_dir, os.path.relpath(root, input_dir))\n",
    "            os.makedirs(output_subdir, exist_ok=True)\n",
    "            cv2.imwrite(os.path.join(output_subdir, filename), img_resized)"
   ]
  },
  {
   "cell_type": "markdown",
   "id": "bea4234c",
   "metadata": {},
   "source": [
    "### Image Conversion"
   ]
  },
  {
   "cell_type": "code",
   "execution_count": null,
   "id": "bf8bbd9b",
   "metadata": {},
   "outputs": [],
   "source": [
    "image_dir = \"Datasets/VMMRdb/\""
   ]
  },
  {
   "cell_type": "code",
   "execution_count": null,
   "id": "70c65914",
   "metadata": {},
   "outputs": [],
   "source": [
    "def convert_images_to_jpg(image_dir):\n",
    "    for folder_name in os.listdir(image_dir):\n",
    "        folder_path = os.path.join(image_dir, folder_name)\n",
    "        if not os.path.isdir(folder_path):\n",
    "            continue\n",
    "        for image_name in os.listdir(folder_path):\n",
    "            image_path = os.path.join(folder_path, image_name)\n",
    "            if image_path.endswith('.jpg') or image_path.endswith('.jpeg'):\n",
    "                continue\n",
    "            try:\n",
    "                with Image.open(image_path) as im:\n",
    "                    im = im.convert('RGB')\n",
    "                    new_image_path = os.path.splitext(image_path)[0] + '.jpg'\n",
    "                    im.save(new_image_path, quality=95)\n",
    "                os.remove(image_path)\n",
    "            except Exception as e:\n",
    "                print(f\"Error processing image {image_path}: {e}\")"
   ]
  },
  {
   "cell_type": "code",
   "execution_count": null,
   "id": "288dd845",
   "metadata": {},
   "outputs": [],
   "source": [
    "convert_images_to_jpg(image_dir)"
   ]
  },
  {
   "cell_type": "code",
   "execution_count": null,
   "id": "e774918a",
   "metadata": {},
   "outputs": [],
   "source": []
  },
  {
   "cell_type": "code",
   "execution_count": null,
   "id": "87d728ef",
   "metadata": {},
   "outputs": [],
   "source": []
  },
  {
   "cell_type": "code",
   "execution_count": null,
   "id": "5270c49c",
   "metadata": {},
   "outputs": [],
   "source": []
  },
  {
   "cell_type": "code",
   "execution_count": null,
   "id": "6ece9071",
   "metadata": {},
   "outputs": [],
   "source": []
  },
  {
   "cell_type": "code",
   "execution_count": 655,
   "id": "e9cbcbbf",
   "metadata": {},
   "outputs": [],
   "source": [
    "def matchingStrings(strings, queries):\n",
    "    results = []\n",
    "    for i,string in enumerate(strings):\n",
    "        if string not in results:\n",
    "            results[i] = [i]\n",
    "        else:\n",
    "            results.append.string\n",
    "        return results\n"
   ]
  },
  {
   "cell_type": "code",
   "execution_count": 656,
   "id": "3501a618",
   "metadata": {},
   "outputs": [],
   "source": [
    "strings = ['ab','bc','cd','ab']\n",
    "queries = ['ab','cd']"
   ]
  },
  {
   "cell_type": "code",
   "execution_count": 657,
   "id": "df309cbc",
   "metadata": {},
   "outputs": [
    {
     "ename": "IndexError",
     "evalue": "list assignment index out of range",
     "output_type": "error",
     "traceback": [
      "\u001b[0;31m---------------------------------------------------------------------------\u001b[0m",
      "\u001b[0;31mIndexError\u001b[0m                                Traceback (most recent call last)",
      "Cell \u001b[0;32mIn[657], line 1\u001b[0m\n\u001b[0;32m----> 1\u001b[0m \u001b[43mmatchingStrings\u001b[49m\u001b[43m(\u001b[49m\u001b[43mstrings\u001b[49m\u001b[43m,\u001b[49m\u001b[43m \u001b[49m\u001b[43mqueries\u001b[49m\u001b[43m)\u001b[49m\n",
      "Cell \u001b[0;32mIn[655], line 5\u001b[0m, in \u001b[0;36mmatchingStrings\u001b[0;34m(strings, queries)\u001b[0m\n\u001b[1;32m      3\u001b[0m \u001b[38;5;28;01mfor\u001b[39;00m i,string \u001b[38;5;129;01min\u001b[39;00m \u001b[38;5;28menumerate\u001b[39m(strings):\n\u001b[1;32m      4\u001b[0m     \u001b[38;5;28;01mif\u001b[39;00m string \u001b[38;5;129;01mnot\u001b[39;00m \u001b[38;5;129;01min\u001b[39;00m results:\n\u001b[0;32m----> 5\u001b[0m         \u001b[43mresults\u001b[49m\u001b[43m[\u001b[49m\u001b[43mi\u001b[49m\u001b[43m]\u001b[49m \u001b[38;5;241m=\u001b[39m [i]\n\u001b[1;32m      6\u001b[0m     \u001b[38;5;28;01melse\u001b[39;00m:\n\u001b[1;32m      7\u001b[0m         results\u001b[38;5;241m.\u001b[39mappend\u001b[38;5;241m.\u001b[39mstring\n",
      "\u001b[0;31mIndexError\u001b[0m: list assignment index out of range"
     ]
    }
   ],
   "source": [
    "matchingStrings(strings, queries)"
   ]
  },
  {
   "cell_type": "code",
   "execution_count": null,
   "id": "f5515c58",
   "metadata": {},
   "outputs": [],
   "source": []
  },
  {
   "cell_type": "code",
   "execution_count": 332,
   "id": "acc003e1",
   "metadata": {},
   "outputs": [
    {
     "data": {
      "text/plain": [
       "[2, 4, 14, 15]"
      ]
     },
     "execution_count": 332,
     "metadata": {},
     "output_type": "execute_result"
    }
   ],
   "source": []
  },
  {
   "cell_type": "code",
   "execution_count": null,
   "id": "0bf811c3",
   "metadata": {},
   "outputs": [],
   "source": []
  },
  {
   "cell_type": "code",
   "execution_count": null,
   "id": "302684c1",
   "metadata": {},
   "outputs": [],
   "source": []
  }
 ],
 "metadata": {
  "kernelspec": {
   "display_name": "Python 3 (ipykernel)",
   "language": "python",
   "name": "python3"
  },
  "language_info": {
   "codemirror_mode": {
    "name": "ipython",
    "version": 3
   },
   "file_extension": ".py",
   "mimetype": "text/x-python",
   "name": "python",
   "nbconvert_exporter": "python",
   "pygments_lexer": "ipython3",
   "version": "3.9.16"
  }
 },
 "nbformat": 4,
 "nbformat_minor": 5
}

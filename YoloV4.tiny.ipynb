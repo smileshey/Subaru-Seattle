{
 "cells": [
  {
   "cell_type": "code",
   "execution_count": 30,
   "id": "abb1f7fb",
   "metadata": {},
   "outputs": [],
   "source": [
    "import numpy as np\n",
    "import pandas as pd\n",
    "import matplotlib.pyplot as plt\n",
    "import requests\n",
    "import pickle\n",
    "import time\n",
    "import os\n",
    "import json\n",
    "import seaborn as sns\n",
    "import tensorflow as tf\n",
    "import random\n",
    "import cv2\n",
    "from PIL import Image\n",
    "\n",
    "from pandas import json_normalize\n",
    "from sklearn.model_selection import train_test_split, GridSearchCV\n",
    "from sklearn.pipeline import Pipeline, FeatureUnion\n",
    "from sklearn.naive_bayes import MultinomialNB\n",
    "from sklearn.linear_model import LogisticRegression\n",
    "from sklearn.metrics import confusion_matrix, ConfusionMatrixDisplay\n",
    "from sklearn.feature_extraction.text import CountVectorizer, TfidfVectorizer\n",
    "from sklearn.model_selection import train_test_split, GridSearchCV\n",
    "from sklearn.metrics import confusion_matrix, ConfusionMatrixDisplay, precision_score, recall_score, f1_score,classification_report\n",
    "from sklearn.preprocessing import normalize,StandardScaler,RobustScaler,MinMaxScaler\n",
    "from sklearn.svm import SVC,LinearSVC\n",
    "from sklearn.ensemble import RandomForestClassifier\n",
    "from sklearn.naive_bayes import BernoulliNB\n",
    "from sklearn.compose import ColumnTransformer\n",
    "from matplotlib.colors import LinearSegmentedColormap\n",
    "from sklearn.preprocessing import LabelBinarizer\n",
    "\n",
    "\n",
    "\n",
    "from tensorflow.keras.models import Sequential\n",
    "from tensorflow.keras.layers import Dense, Dropout, BatchNormalization, Flatten, Conv2D, MaxPooling2D,LeakyReLU\n",
    "from tensorflow.keras.regularizers import l1, l2, l1_l2\n",
    "from tensorflow.keras.optimizers import Adam, SGD, RMSprop\n",
    "from keras.callbacks import EarlyStopping\n",
    "from tensorflow.keras.datasets import mnist, cifar10\n",
    "from tensorflow import keras\n",
    "from tensorflow.keras.preprocessing.image import ImageDataGenerator\n",
    "\n",
    "\n",
    "from scipy.stats import skew\n",
    "from scipy.sparse import csr_matrix\n"
   ]
  },
  {
   "cell_type": "code",
   "execution_count": 2,
   "id": "8f94346b",
   "metadata": {},
   "outputs": [],
   "source": [
    "image_dir = \"Datasets/VMMRdb/\""
   ]
  },
  {
   "cell_type": "code",
   "execution_count": 11,
   "id": "42535bdb",
   "metadata": {},
   "outputs": [
    {
     "name": "stdout",
     "output_type": "stream",
     "text": [
      "--2023-05-05 14:34:08--  https://raw.githubusercontent.com/pjreddie/darknet/master/data/coco.names\n",
      "Resolving raw.githubusercontent.com (raw.githubusercontent.com)... 185.199.108.133, 185.199.109.133, 185.199.110.133, ...\n",
      "Connecting to raw.githubusercontent.com (raw.githubusercontent.com)|185.199.108.133|:443... connected.\n",
      "HTTP request sent, awaiting response... 200 OK\n",
      "Length: 625 [text/plain]\n",
      "Saving to: ‘coco.names’\n",
      "\n",
      "coco.names          100%[===================>]     625  --.-KB/s    in 0s      \n",
      "\n",
      "2023-05-05 14:34:08 (6.85 MB/s) - ‘coco.names’ saved [625/625]\n",
      "\n"
     ]
    }
   ],
   "source": [
    "!wget https://raw.githubusercontent.com/pjreddie/darknet/master/data/coco.names"
   ]
  },
  {
   "cell_type": "code",
   "execution_count": 18,
   "id": "fc3f6d77",
   "metadata": {
    "scrolled": true
   },
   "outputs": [],
   "source": [
    "net = cv2.dnn.readNet(\"models/yolov4-tiny.weights\", \"models/yolov4-tiny.cfg\")\n",
    "\n",
    "# Load classes\n",
    "classes = []\n",
    "with open(\"coco.names\", \"r\") as f:\n",
    "    classes = [line.strip() for line in f.readlines()]"
   ]
  },
  {
   "cell_type": "code",
   "execution_count": 20,
   "id": "014cc9dc",
   "metadata": {},
   "outputs": [
    {
     "data": {
      "text/plain": [
       "['person', 'bicycle', 'car', 'motorbike', 'aeroplane']"
      ]
     },
     "execution_count": 20,
     "metadata": {},
     "output_type": "execute_result"
    }
   ],
   "source": [
    "classes[:5]"
   ]
  },
  {
   "cell_type": "code",
   "execution_count": 21,
   "id": "3ec0fd48",
   "metadata": {},
   "outputs": [],
   "source": [
    "input_size = (416, 416)\n",
    "scale = 1/255.0"
   ]
  },
  {
   "cell_type": "code",
   "execution_count": 46,
   "id": "b6c98fae",
   "metadata": {},
   "outputs": [],
   "source": [
    "output_dir = \"Datasets/yolov4/\"\n",
    "\n",
    "for root, dirs, files in os.walk('Datasets/VMMRdb/'):\n",
    "    for filename in files:\n",
    "        # Check if output file already exists\n",
    "        output_path = os.path.join('Datasets/yolov4', os.path.basename(root), filename)\n",
    "        if os.path.exists(output_path):\n",
    "            continue  # skip file if it already exists\n",
    "\n",
    "        # Load image\n",
    "        img = cv2.imread(os.path.join(root, filename))\n",
    "        if img is None:\n",
    "            continue  # skip file if unable to load\n",
    "\n",
    "        orig_h, orig_w = img.shape[:2]\n",
    "        blob = cv2.dnn.blobFromImage(img, scale, input_size, swapRB=True, crop=False)\n",
    "\n",
    "        # Set input and output layers\n",
    "        net.setInput(blob)\n",
    "        output_layers = net.getUnconnectedOutLayersNames()\n",
    "\n",
    "        # Forward pass through network\n",
    "        layer_outputs = net.forward(output_layers)\n",
    "\n",
    "        # Process detections\n",
    "        boxes = []\n",
    "        confidences = []\n",
    "        class_ids = []\n",
    "        for output in layer_outputs:\n",
    "            for detection in output:\n",
    "                scores = detection[5:]\n",
    "                class_id = np.argmax(scores)\n",
    "                confidence = scores[class_id]\n",
    "                if confidence > 0.5:\n",
    "                    center_x = int(detection[0] * orig_w)\n",
    "                    center_y = int(detection[1] * orig_h)\n",
    "                    width = int(detection[2] * orig_w)\n",
    "                    height = int(detection[3] * orig_h)\n",
    "                    x = int(center_x - width/2)\n",
    "                    y = int(center_y - height/2)\n",
    "                    boxes.append([x, y, width, height])\n",
    "                    confidences.append(float(confidence))\n",
    "                    class_ids.append(class_id)\n",
    "\n",
    "        # Apply non-max suppression\n",
    "        indices = cv2.dnn.NMSBoxes(boxes, confidences, 0.5, 0.4)\n",
    "\n",
    "        # Draw final bounding boxes and class labels\n",
    "        if len(indices) > 0:\n",
    "            for i in indices.flatten():\n",
    "                box = boxes[i]\n",
    "                x, y, w, h = box\n",
    "                label = classes[class_ids[i]]\n",
    "                cv2.rectangle(img, (x, y), (x+w, y+h), (0, 255, 0), 2)\n",
    "                cv2.putText(img, label, (x, y-10), cv2.FONT_HERSHEY_SIMPLEX, 0.5, (0, 255, 0), 2)\n",
    "\n",
    "        # Save\n",
    "        output_dir = os.path.dirname(output_path)\n",
    "        os.makedirs(output_dir, exist_ok=True)\n",
    "        cv2.imwrite(output_path, img)"
   ]
  },
  {
   "cell_type": "code",
   "execution_count": 41,
   "id": "0016072d",
   "metadata": {},
   "outputs": [],
   "source": []
  },
  {
   "cell_type": "code",
   "execution_count": null,
   "id": "821ae547",
   "metadata": {},
   "outputs": [],
   "source": []
  },
  {
   "cell_type": "code",
   "execution_count": null,
   "id": "6340613c",
   "metadata": {},
   "outputs": [],
   "source": []
  }
 ],
 "metadata": {
  "kernelspec": {
   "display_name": "Python 3 (ipykernel)",
   "language": "python",
   "name": "python3"
  },
  "language_info": {
   "codemirror_mode": {
    "name": "ipython",
    "version": 3
   },
   "file_extension": ".py",
   "mimetype": "text/x-python",
   "name": "python",
   "nbconvert_exporter": "python",
   "pygments_lexer": "ipython3",
   "version": "3.9.16"
  }
 },
 "nbformat": 4,
 "nbformat_minor": 5
}

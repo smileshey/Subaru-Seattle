{
 "cells": [
  {
   "cell_type": "markdown",
   "id": "f58b6433",
   "metadata": {},
   "source": [
    "# Model (VGG16)"
   ]
  },
  {
   "cell_type": "markdown",
   "id": "5a46e99a",
   "metadata": {},
   "source": [
    "### Library Imports"
   ]
  },
  {
   "cell_type": "code",
   "execution_count": 1,
   "id": "a293f45d",
   "metadata": {},
   "outputs": [],
   "source": [
    "import numpy as np\n",
    "import pandas as pd\n",
    "import matplotlib.pyplot as plt\n",
    "import requests\n",
    "import pickle\n",
    "import time\n",
    "import os\n",
    "import json\n",
    "import seaborn as sns\n",
    "import tensorflow as tf\n",
    "import random\n",
    "import cv2\n",
    "\n",
    "from tensorflow.keras.applications import VGG16\n",
    "from tensorflow.keras.layers import Dense, Dropout, Flatten\n",
    "from tensorflow.keras.models import Sequential\n",
    "\n",
    "from keras.applications import VGG16\n",
    "from keras.preprocessing.image import ImageDataGenerator\n",
    "from keras.models import Sequential\n",
    "from keras.layers import Dense, Dropout, Flatten\n",
    "from keras.optimizers import Adam\n",
    "\n",
    "from pandas import json_normalize\n",
    "from sklearn.model_selection import train_test_split, GridSearchCV\n",
    "from sklearn.pipeline import Pipeline, FeatureUnion\n",
    "from sklearn.naive_bayes import MultinomialNB\n",
    "from sklearn.linear_model import LogisticRegression\n",
    "from sklearn.metrics import confusion_matrix, ConfusionMatrixDisplay\n",
    "from sklearn.feature_extraction.text import CountVectorizer, TfidfVectorizer\n",
    "from sklearn.model_selection import train_test_split, GridSearchCV\n",
    "from sklearn.metrics import confusion_matrix, ConfusionMatrixDisplay, precision_score, recall_score, f1_score,classification_report\n",
    "from sklearn.preprocessing import normalize,StandardScaler,RobustScaler,MinMaxScaler\n",
    "from sklearn.svm import SVC,LinearSVC\n",
    "from sklearn.ensemble import RandomForestClassifier\n",
    "from sklearn.naive_bayes import BernoulliNB\n",
    "from sklearn.compose import ColumnTransformer\n",
    "\n",
    "\n",
    "from tensorflow.keras.models import Sequential\n",
    "from tensorflow.keras.layers import Dense, Dropout, BatchNormalization, Flatten, Conv2D, MaxPooling2D,LeakyReLU\n",
    "from tensorflow.keras.regularizers import l1, l2, l1_l2\n",
    "from tensorflow.keras.optimizers import Adam, SGD, RMSprop\n",
    "from keras.callbacks import EarlyStopping\n",
    "from tensorflow.keras.datasets import mnist, cifar10\n",
    "from tensorflow import keras\n",
    "from keras.utils import to_categorical\n",
    "\n",
    "\n",
    "from scipy.stats import skew"
   ]
  },
  {
   "cell_type": "markdown",
   "id": "da968523",
   "metadata": {},
   "source": [
    "### Data Imports"
   ]
  },
  {
   "cell_type": "code",
   "execution_count": 2,
   "id": "2275727e",
   "metadata": {},
   "outputs": [],
   "source": [
    "with open('pickles/X.pkl', 'rb') as f:\n",
    "    X = pickle.load(f)"
   ]
  },
  {
   "cell_type": "code",
   "execution_count": 3,
   "id": "60fc829f",
   "metadata": {},
   "outputs": [],
   "source": [
    "with open('pickles/y.pkl', 'rb') as f:\n",
    "    y = pickle.load(f)"
   ]
  },
  {
   "cell_type": "code",
   "execution_count": null,
   "id": "0865c720",
   "metadata": {},
   "outputs": [],
   "source": []
  },
  {
   "cell_type": "markdown",
   "id": "24e54d5d",
   "metadata": {},
   "source": [
    "### Train Test Split\n",
    "\n",
    "To Train-Test split the data, we'll be seperating X on index to prevent all of the data from being loaded into the kernel concurrently."
   ]
  },
  {
   "cell_type": "code",
   "execution_count": 4,
   "id": "daa7bb83",
   "metadata": {},
   "outputs": [],
   "source": [
    "idx = np.arange(X.shape[0])"
   ]
  },
  {
   "cell_type": "code",
   "execution_count": 5,
   "id": "7c3811ef",
   "metadata": {},
   "outputs": [],
   "source": [
    "train_idx, test_idx, y_train, y_val = train_test_split(idx, y, test_size=0.2, random_state=42)"
   ]
  },
  {
   "cell_type": "code",
   "execution_count": 6,
   "id": "1d4ea310",
   "metadata": {},
   "outputs": [],
   "source": [
    "X_train = X[train_idx]"
   ]
  },
  {
   "cell_type": "code",
   "execution_count": 7,
   "id": "2bd16e52",
   "metadata": {},
   "outputs": [],
   "source": [
    "X_val = X[test_idx]"
   ]
  },
  {
   "cell_type": "code",
   "execution_count": 8,
   "id": "ceda5caf",
   "metadata": {},
   "outputs": [
    {
     "data": {
      "text/plain": [
       "228524"
      ]
     },
     "execution_count": 8,
     "metadata": {},
     "output_type": "execute_result"
    }
   ],
   "source": [
    "len(X_train)"
   ]
  },
  {
   "cell_type": "code",
   "execution_count": 9,
   "id": "a31c8c85",
   "metadata": {},
   "outputs": [
    {
     "data": {
      "text/plain": [
       "75"
      ]
     },
     "execution_count": 9,
     "metadata": {},
     "output_type": "execute_result"
    }
   ],
   "source": [
    "num_classes = len(np.unique(y))\n",
    "num_classes"
   ]
  },
  {
   "cell_type": "markdown",
   "id": "1b56c5d6",
   "metadata": {},
   "source": [
    "### Mapping Labels"
   ]
  },
  {
   "cell_type": "code",
   "execution_count": 10,
   "id": "3eac3402",
   "metadata": {},
   "outputs": [],
   "source": [
    "label_map = {label: i for i, label in enumerate(np.unique(y_train))}\n",
    "\n",
    "y_train_int = np.array([label_map[label] for label in y_train])\n",
    "y_val_int = np.array([label_map[label] for label in y_val])\n",
    "\n",
    "y_train = to_categorical(y_train_int, num_classes=75)\n",
    "y_val = to_categorical(y_val_int, num_classes=75)"
   ]
  },
  {
   "cell_type": "markdown",
   "id": "af1838c3",
   "metadata": {},
   "source": [
    "### Data Generators\n",
    "\n",
    "We'll feed our data into the model in batches of 32 so that all images aren’t loaded into the kernel at the same time. Within this function, we'll divide X_low by 255, to normalize the data.\n",
    "\n",
    "This operation is split into two seperate generators to prevent data leakage from the training set into the validation set. Since the function has been seperated, each function will only be called when needed."
   ]
  },
  {
   "cell_type": "code",
   "execution_count": 11,
   "id": "9fbe2cc2",
   "metadata": {},
   "outputs": [],
   "source": [
    "def train_data_generator(X_train, y_train, batch_size):\n",
    "    num_train_samples = len(X_train)\n",
    "    train_indices = np.arange(num_train_samples)\n",
    "    np.random.shuffle(train_indices)\n",
    "\n",
    "    while True:\n",
    "        for start_idx in range(0, num_train_samples, batch_size):\n",
    "            end_idx = min(start_idx + batch_size, num_train_samples)\n",
    "            batch_indices = train_indices[start_idx:end_idx]\n",
    "            X_batch_train = X_train[batch_indices]\n",
    "            y_batch_train = y_train[batch_indices]\n",
    "\n",
    "            # Normalize the input data to [0, 1]\n",
    "            X_batch_train = X_batch_train.astype('float32') / 255.0\n",
    "\n",
    "            yield (X_batch_train, y_batch_train)"
   ]
  },
  {
   "cell_type": "code",
   "execution_count": 12,
   "id": "579044e4",
   "metadata": {},
   "outputs": [],
   "source": [
    "def val_data_generator(X_val, y_val, batch_size):\n",
    "    num_val_samples = len(X_val)\n",
    "    val_indices = np.arange(num_val_samples)\n",
    "    np.random.shuffle(val_indices)\n",
    "\n",
    "    while True:\n",
    "        for start_idx_val in range(0, num_val_samples, batch_size):\n",
    "            end_idx_val = min(start_idx_val + batch_size, num_val_samples)\n",
    "            batch_indices_val = val_indices[start_idx_val:end_idx_val]\n",
    "            X_batch_val = X_val[batch_indices_val]\n",
    "            y_batch_val = y_val[batch_indices_val]\n",
    "\n",
    "            # Normalize the input\n",
    "            X_batch_val = X_batch_val.astype('float32') / 255.0\n",
    "\n",
    "            yield (X_batch_val, y_batch_val)\n",
    "\n",
    "\n",
    "# Define the batch size\n",
    "batch_size = 32\n",
    "\n",
    "train_generator = train_data_generator(X_train, y_train, batch_size)\n",
    "val_generator = val_data_generator(X_val, y_val, batch_size)"
   ]
  },
  {
   "cell_type": "markdown",
   "id": "36fbd2f4",
   "metadata": {},
   "source": [
    "### Instantiating VGG16 Model"
   ]
  },
  {
   "cell_type": "code",
   "execution_count": 18,
   "id": "58b38222",
   "metadata": {},
   "outputs": [],
   "source": [
    "# Load the VGG16 model and exclude the top layer\n",
    "base_model = VGG16(weights='imagenet', include_top=False, input_shape=(224, 224, 3))\n",
    "\n",
    "# Freeze the pre-trained layers\n",
    "for layer in base_model.layers:\n",
    "    layer.trainable = False\n",
    "\n",
    "model = Sequential()\n",
    "model.add(base_model)\n",
    "model.add(Flatten())\n",
    "model.add(Dense(64, activation='relu'))\n",
    "model.add(Dropout(0.2))\n",
    "model.add(Dense(75, activation='softmax'))"
   ]
  },
  {
   "cell_type": "code",
   "execution_count": 19,
   "id": "33588f6a",
   "metadata": {},
   "outputs": [],
   "source": [
    "model.compile(optimizer=Adam(lr=1e-5),\n",
    "              loss='categorical_crossentropy',\n",
    "              metrics=['accuracy'])"
   ]
  },
  {
   "cell_type": "code",
   "execution_count": 20,
   "id": "56f141ba",
   "metadata": {},
   "outputs": [],
   "source": [
    "early_stopping = EarlyStopping(monitor='val_loss', patience=15)\n"
   ]
  },
  {
   "cell_type": "code",
   "execution_count": 26,
   "id": "1df5f1d6",
   "metadata": {},
   "outputs": [
    {
     "name": "stdout",
     "output_type": "stream",
     "text": [
      "7141/7141 [==============================] - 1364s 191ms/step - loss: 2.4063 - accuracy: 0.3474 - val_loss: 2.3533 - val_accuracy: 0.3640\n"
     ]
    }
   ],
   "source": [
    "history = model.fit(\n",
    "    train_generator,\n",
    "    steps_per_epoch=len(X_train) // batch_size,\n",
    "    validation_data=val_generator,\n",
    "    validation_steps=len(X_val) // batch_size,\n",
    "    callbacks = [early_stopping]\n",
    ")"
   ]
  },
  {
   "cell_type": "code",
   "execution_count": null,
   "id": "486242a8",
   "metadata": {},
   "outputs": [],
   "source": []
  },
  {
   "cell_type": "code",
   "execution_count": null,
   "id": "5c0125ff",
   "metadata": {},
   "outputs": [],
   "source": []
  }
 ],
 "metadata": {
  "kernelspec": {
   "display_name": "Python 3 (ipykernel)",
   "language": "python",
   "name": "python3"
  },
  "language_info": {
   "codemirror_mode": {
    "name": "ipython",
    "version": 3
   },
   "file_extension": ".py",
   "mimetype": "text/x-python",
   "name": "python",
   "nbconvert_exporter": "python",
   "pygments_lexer": "ipython3",
   "version": "3.9.16"
  }
 },
 "nbformat": 4,
 "nbformat_minor": 5
}
